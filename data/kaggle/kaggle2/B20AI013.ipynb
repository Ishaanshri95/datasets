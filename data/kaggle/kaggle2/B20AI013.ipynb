{
  "nbformat": 4,
  "nbformat_minor": 0,
  "metadata": {
    "colab": {
      "name": "kaggle_2.ipynb",
      "provenance": [],
      "collapsed_sections": []
    },
    "kernelspec": {
      "name": "python3",
      "display_name": "Python 3"
    },
    "language_info": {
      "name": "python"
    }
  },
  "cells": [
    {
      "cell_type": "code",
      "execution_count": 1,
      "metadata": {
        "colab": {
          "base_uri": "https://localhost:8080/"
        },
        "id": "RleZ9zAmyTVr",
        "outputId": "5b8fec30-15bc-45f1-bb1c-88fa6659c172"
      },
      "outputs": [
        {
          "output_type": "stream",
          "name": "stdout",
          "text": [
            "(111723, 1) (111723,)\n",
            "<class 'pandas.core.frame.DataFrame'>\n",
            "RangeIndex: 111723 entries, 0 to 111722\n",
            "Data columns (total 1 columns):\n",
            " #   Column  Non-Null Count   Dtype \n",
            "---  ------  --------------   ----- \n",
            " 0   text    111723 non-null  object\n",
            "dtypes: object(1)\n",
            "memory usage: 873.0+ KB\n",
            "None\n"
          ]
        }
      ],
      "source": [
        "import pandas as pd\n",
        "import numpy as np\n",
        "import matplotlib.pyplot as plt\n",
        "import seaborn as sns\n",
        "from sklearn.preprocessing import StandardScaler\n",
        "\n",
        "from sklearn.discriminant_analysis import LinearDiscriminantAnalysis as LDA\n",
        "from sklearn.decomposition import PCA\n",
        "\n",
        "from sklearn.model_selection import train_test_split as tts\n",
        "from sklearn.metrics import accuracy_score, roc_auc_score, confusion_matrix\n",
        "\n",
        "\n",
        "url_train = \"https://raw.githubusercontent.com/Ishaanshri95/datasets/main/data/kaggle/kaggle2/train.csv\"\n",
        "url_test  = \"https://raw.githubusercontent.com/Ishaanshri95/datasets/main/data/kaggle/kaggle2/test.csv\"\n",
        "\n",
        "data = pd.read_csv(url_train)\n",
        "data_test = pd.read_csv(url_test)\n",
        "target = data['Prediction']\n",
        "\n",
        "data_ids = data['id']\n",
        "data_test_ids = data_test['id']\n",
        "data.drop(columns='id', inplace=True, axis=1)\n",
        "data_test.drop(columns='id', inplace=True, axis=1)\n",
        "\n",
        "data['text'] = data['comment_text']\n",
        "data_test['text'] = data_test['comment_text']\n",
        "data.drop(columns='comment_text', inplace=True, axis=1)\n",
        "data_test.drop(columns='comment_text', inplace=True, axis=1)\n",
        "\n",
        "data.drop(columns='Prediction', inplace=True, axis=1)\n",
        "print(data.shape, target.shape)\n",
        "print(data.info())"
      ]
    },
    {
      "cell_type": "code",
      "source": [
        "def gen_submission(output_labels):\n",
        "  submission = pd.DataFrame()\n",
        "  predicteds = [str(f'{list(output_label)}'.replace(', ', ',').replace('[', '\"').replace(']', '\"')) for index, output_label in enumerate(output_labels)]\n",
        "  ids = [index for index, output_label in enumerate(output_labels)]\n",
        "  submission['ID']         = np.array(ids)\n",
        "  submission['Prediction'] = np.array(predicteds)\n",
        "  submission.to_csv('submission_temp.csv', index=False)\n",
        "\n",
        "  fin = open(\"submission_temp.csv\", \"rt\")\n",
        "  #output file to write the result to\n",
        "  fout = open(\"submission.csv\", \"wt\")\n",
        "  #for each line in the input file\n",
        "  for line in fin:\n",
        "    #read replace the string and write to output file\n",
        "    fout.write(line.replace('\"\"\"', '\"'))\n",
        "  #close input and output files\n",
        "  fin.close()\n",
        "  fout.close()\n",
        "\n",
        "  print(submission)\n",
        "  \n",
        "\n",
        "data"
      ],
      "metadata": {
        "colab": {
          "base_uri": "https://localhost:8080/",
          "height": 423
        },
        "id": "fqyiSWPH1ZNe",
        "outputId": "8a480b17-ee71-419e-b48d-a4e85af42272"
      },
      "execution_count": 2,
      "outputs": [
        {
          "output_type": "execute_result",
          "data": {
            "text/plain": [
              "                                                     text\n",
              "0       Explanation\\nWhy the edits made under my usern...\n",
              "1       D'aww! He matches this background colour I'm s...\n",
              "2       Hey man, I'm really not trying to edit war. It...\n",
              "3       \"\\nMore\\nI can't make any real suggestions on ...\n",
              "4       You, sir, are my hero. Any chance you remember...\n",
              "...                                                   ...\n",
              "111718  \"\\n Auto guides and the motoring press are not...\n",
              "111719  \"\\nplease identify what part of BLP applies be...\n",
              "111720  Catalan independentism is the social movement ...\n",
              "111721  Spitzer \\n\\nUmm, theres no actual article for ...\n",
              "111722  And it looks like it was actually you who put ...\n",
              "\n",
              "[111723 rows x 1 columns]"
            ],
            "text/html": [
              "\n",
              "  <div id=\"df-5409dbec-c964-449a-9e63-a108d7a09f45\">\n",
              "    <div class=\"colab-df-container\">\n",
              "      <div>\n",
              "<style scoped>\n",
              "    .dataframe tbody tr th:only-of-type {\n",
              "        vertical-align: middle;\n",
              "    }\n",
              "\n",
              "    .dataframe tbody tr th {\n",
              "        vertical-align: top;\n",
              "    }\n",
              "\n",
              "    .dataframe thead th {\n",
              "        text-align: right;\n",
              "    }\n",
              "</style>\n",
              "<table border=\"1\" class=\"dataframe\">\n",
              "  <thead>\n",
              "    <tr style=\"text-align: right;\">\n",
              "      <th></th>\n",
              "      <th>text</th>\n",
              "    </tr>\n",
              "  </thead>\n",
              "  <tbody>\n",
              "    <tr>\n",
              "      <th>0</th>\n",
              "      <td>Explanation\\nWhy the edits made under my usern...</td>\n",
              "    </tr>\n",
              "    <tr>\n",
              "      <th>1</th>\n",
              "      <td>D'aww! He matches this background colour I'm s...</td>\n",
              "    </tr>\n",
              "    <tr>\n",
              "      <th>2</th>\n",
              "      <td>Hey man, I'm really not trying to edit war. It...</td>\n",
              "    </tr>\n",
              "    <tr>\n",
              "      <th>3</th>\n",
              "      <td>\"\\nMore\\nI can't make any real suggestions on ...</td>\n",
              "    </tr>\n",
              "    <tr>\n",
              "      <th>4</th>\n",
              "      <td>You, sir, are my hero. Any chance you remember...</td>\n",
              "    </tr>\n",
              "    <tr>\n",
              "      <th>...</th>\n",
              "      <td>...</td>\n",
              "    </tr>\n",
              "    <tr>\n",
              "      <th>111718</th>\n",
              "      <td>\"\\n Auto guides and the motoring press are not...</td>\n",
              "    </tr>\n",
              "    <tr>\n",
              "      <th>111719</th>\n",
              "      <td>\"\\nplease identify what part of BLP applies be...</td>\n",
              "    </tr>\n",
              "    <tr>\n",
              "      <th>111720</th>\n",
              "      <td>Catalan independentism is the social movement ...</td>\n",
              "    </tr>\n",
              "    <tr>\n",
              "      <th>111721</th>\n",
              "      <td>Spitzer \\n\\nUmm, theres no actual article for ...</td>\n",
              "    </tr>\n",
              "    <tr>\n",
              "      <th>111722</th>\n",
              "      <td>And it looks like it was actually you who put ...</td>\n",
              "    </tr>\n",
              "  </tbody>\n",
              "</table>\n",
              "<p>111723 rows × 1 columns</p>\n",
              "</div>\n",
              "      <button class=\"colab-df-convert\" onclick=\"convertToInteractive('df-5409dbec-c964-449a-9e63-a108d7a09f45')\"\n",
              "              title=\"Convert this dataframe to an interactive table.\"\n",
              "              style=\"display:none;\">\n",
              "        \n",
              "  <svg xmlns=\"http://www.w3.org/2000/svg\" height=\"24px\"viewBox=\"0 0 24 24\"\n",
              "       width=\"24px\">\n",
              "    <path d=\"M0 0h24v24H0V0z\" fill=\"none\"/>\n",
              "    <path d=\"M18.56 5.44l.94 2.06.94-2.06 2.06-.94-2.06-.94-.94-2.06-.94 2.06-2.06.94zm-11 1L8.5 8.5l.94-2.06 2.06-.94-2.06-.94L8.5 2.5l-.94 2.06-2.06.94zm10 10l.94 2.06.94-2.06 2.06-.94-2.06-.94-.94-2.06-.94 2.06-2.06.94z\"/><path d=\"M17.41 7.96l-1.37-1.37c-.4-.4-.92-.59-1.43-.59-.52 0-1.04.2-1.43.59L10.3 9.45l-7.72 7.72c-.78.78-.78 2.05 0 2.83L4 21.41c.39.39.9.59 1.41.59.51 0 1.02-.2 1.41-.59l7.78-7.78 2.81-2.81c.8-.78.8-2.07 0-2.86zM5.41 20L4 18.59l7.72-7.72 1.47 1.35L5.41 20z\"/>\n",
              "  </svg>\n",
              "      </button>\n",
              "      \n",
              "  <style>\n",
              "    .colab-df-container {\n",
              "      display:flex;\n",
              "      flex-wrap:wrap;\n",
              "      gap: 12px;\n",
              "    }\n",
              "\n",
              "    .colab-df-convert {\n",
              "      background-color: #E8F0FE;\n",
              "      border: none;\n",
              "      border-radius: 50%;\n",
              "      cursor: pointer;\n",
              "      display: none;\n",
              "      fill: #1967D2;\n",
              "      height: 32px;\n",
              "      padding: 0 0 0 0;\n",
              "      width: 32px;\n",
              "    }\n",
              "\n",
              "    .colab-df-convert:hover {\n",
              "      background-color: #E2EBFA;\n",
              "      box-shadow: 0px 1px 2px rgba(60, 64, 67, 0.3), 0px 1px 3px 1px rgba(60, 64, 67, 0.15);\n",
              "      fill: #174EA6;\n",
              "    }\n",
              "\n",
              "    [theme=dark] .colab-df-convert {\n",
              "      background-color: #3B4455;\n",
              "      fill: #D2E3FC;\n",
              "    }\n",
              "\n",
              "    [theme=dark] .colab-df-convert:hover {\n",
              "      background-color: #434B5C;\n",
              "      box-shadow: 0px 1px 3px 1px rgba(0, 0, 0, 0.15);\n",
              "      filter: drop-shadow(0px 1px 2px rgba(0, 0, 0, 0.3));\n",
              "      fill: #FFFFFF;\n",
              "    }\n",
              "  </style>\n",
              "\n",
              "      <script>\n",
              "        const buttonEl =\n",
              "          document.querySelector('#df-5409dbec-c964-449a-9e63-a108d7a09f45 button.colab-df-convert');\n",
              "        buttonEl.style.display =\n",
              "          google.colab.kernel.accessAllowed ? 'block' : 'none';\n",
              "\n",
              "        async function convertToInteractive(key) {\n",
              "          const element = document.querySelector('#df-5409dbec-c964-449a-9e63-a108d7a09f45');\n",
              "          const dataTable =\n",
              "            await google.colab.kernel.invokeFunction('convertToInteractive',\n",
              "                                                     [key], {});\n",
              "          if (!dataTable) return;\n",
              "\n",
              "          const docLinkHtml = 'Like what you see? Visit the ' +\n",
              "            '<a target=\"_blank\" href=https://colab.research.google.com/notebooks/data_table.ipynb>data table notebook</a>'\n",
              "            + ' to learn more about interactive tables.';\n",
              "          element.innerHTML = '';\n",
              "          dataTable['output_type'] = 'display_data';\n",
              "          await google.colab.output.renderOutput(dataTable, element);\n",
              "          const docLink = document.createElement('div');\n",
              "          docLink.innerHTML = docLinkHtml;\n",
              "          element.appendChild(docLink);\n",
              "        }\n",
              "      </script>\n",
              "    </div>\n",
              "  </div>\n",
              "  "
            ]
          },
          "metadata": {},
          "execution_count": 2
        }
      ]
    },
    {
      "cell_type": "code",
      "source": [
        "target = np.array([[int(item.split(',')[class_label]) for class_label in range(len(item.split(',')))] for item in target])\n",
        "\n",
        "print(target.shape)"
      ],
      "metadata": {
        "colab": {
          "base_uri": "https://localhost:8080/"
        },
        "id": "j99yxm3q0FIm",
        "outputId": "5b7985a9-e323-40e8-8ed8-1109b8da2311"
      },
      "execution_count": 3,
      "outputs": [
        {
          "output_type": "stream",
          "name": "stdout",
          "text": [
            "(111723, 6)\n"
          ]
        }
      ]
    },
    {
      "cell_type": "code",
      "source": [
        "# !pip install xgboost\n",
        "# !pip install lightgbm"
      ],
      "metadata": {
        "id": "y1pStcbqy5AF"
      },
      "execution_count": 4,
      "outputs": []
    },
    {
      "cell_type": "markdown",
      "source": [
        "# Preprocessing"
      ],
      "metadata": {
        "id": "VplNCAtY9xLR"
      }
    },
    {
      "cell_type": "markdown",
      "source": [
        "## train test split"
      ],
      "metadata": {
        "id": "rZqd6o-_-Bmx"
      }
    },
    {
      "cell_type": "code",
      "source": [
        "x_train, x_test, y_train, y_test = tts(data, target, test_size=0.3, random_state=42)"
      ],
      "metadata": {
        "id": "X5AaKoUI9zfE"
      },
      "execution_count": 5,
      "outputs": []
    },
    {
      "cell_type": "markdown",
      "source": [
        "# NLP attempt 1 - count vectorizer"
      ],
      "metadata": {
        "id": "mMq22yTy371Q"
      }
    },
    {
      "cell_type": "markdown",
      "source": [
        "## Bagging for count vectorizer"
      ],
      "metadata": {
        "id": "EHkgD4l83xEk"
      }
    },
    {
      "cell_type": "markdown",
      "source": [
        "### cleaning before bagging"
      ],
      "metadata": {
        "id": "6I_MCSsUBY9x"
      }
    },
    {
      "cell_type": "code",
      "source": [
        "import re\n",
        "def cleanString(comment: str) -> str:\n",
        "    comment = re.sub('n\\'t', '', comment)\n",
        "    comment = re.sub('\\'m', '', comment)\n",
        "    comment = re.sub('\\'ve', '', comment)\n",
        "    # comment = re.sub(' to', '', comment)\n",
        "    # comment = re.sub('the', '', comment)\n",
        "    comment = re.sub('\\'s', '', comment)\n",
        "    comment = re.sub(' is', '', comment)\n",
        "    comment = re.sub(' are', '', comment)\n",
        "    comment = re.sub(' have', '', comment)\n",
        "    comment = re.sub(' has', '', comment)\n",
        "    comment = re.sub(' a', '', comment)\n",
        "    comment = re.sub(' the', '', comment)\n",
        "\n",
        "\n",
        "    comment = comment.replace('\\n', ' \\n ')\n",
        "    comment = comment.replace(r'([*!?\\'])\\1\\1{2,}',r'\\1\\1\\1')    \n",
        "    comment = comment.replace(r'[0-9]', '')\n",
        "    # remove punctuation and numbers\n",
        "    # comment = re.sub('[^a-zA-Z!?%]', ' ', comment)\n",
        "    comment = re.sub('[^a-zA-Z%]', ' ', comment)\n",
        "    # del %\n",
        "    comment = re.sub('%', '', comment)\n",
        "    # remove multiple spaces\n",
        "    comment = re.sub(r' +', ' ', comment)\n",
        "    # remove newline\n",
        "    comment = re.sub(r'\\n', ' ', comment)\n",
        "    # remove digits\n",
        "    # comment = ''.join(i for i in comment if not i.isdigit())\n",
        "    comment = re.sub(r' +', ' ', comment)\n",
        "    comment = comment.strip()\n",
        "    return comment\n",
        "\n",
        "data.text = data.text.map(cleanString)\n",
        "data_test.text = data_test.text.map(cleanString)\n",
        "\n",
        "# Clean data sets\n",
        "# data['text'] = data['text'].apply(text_clean)\n",
        "# data_test['text'] = data_test['text'].apply(text_clean)"
      ],
      "metadata": {
        "id": "9ld5k2k-8kWv"
      },
      "execution_count": 17,
      "outputs": []
    },
    {
      "cell_type": "code",
      "source": [
        "data"
      ],
      "metadata": {
        "colab": {
          "base_uri": "https://localhost:8080/",
          "height": 423
        },
        "id": "HFy_LBe-Bhex",
        "outputId": "8413bd0b-1d37-4177-a54a-e2a1ca1512ea"
      },
      "execution_count": 18,
      "outputs": [
        {
          "output_type": "execute_result",
          "data": {
            "text/plain": [
              "                                                     text\n",
              "0       Explanation Why edits made under my username H...\n",
              "1       Dww He matches this background colour I seemin...\n",
              "2       Hey man I really not trying to edit war It jus...\n",
              "3       More I ca makeny real suggestions on improveme...\n",
              "4       You sir my hero Any chance you remember what p...\n",
              "...                                                   ...\n",
              "111718  Auto guidesnd motoring press not good sources ...\n",
              "111719  please identify what part of BLPpplies because...\n",
              "111720  Catalan independentism social movement involvi...\n",
              "111721  Spitzer Umm res noctualrticle for prostitution...\n",
              "111722  And it looks like it wasctually you who put on...\n",
              "\n",
              "[111723 rows x 1 columns]"
            ],
            "text/html": [
              "\n",
              "  <div id=\"df-1028be82-aee5-4095-ad46-22af0876b5d3\">\n",
              "    <div class=\"colab-df-container\">\n",
              "      <div>\n",
              "<style scoped>\n",
              "    .dataframe tbody tr th:only-of-type {\n",
              "        vertical-align: middle;\n",
              "    }\n",
              "\n",
              "    .dataframe tbody tr th {\n",
              "        vertical-align: top;\n",
              "    }\n",
              "\n",
              "    .dataframe thead th {\n",
              "        text-align: right;\n",
              "    }\n",
              "</style>\n",
              "<table border=\"1\" class=\"dataframe\">\n",
              "  <thead>\n",
              "    <tr style=\"text-align: right;\">\n",
              "      <th></th>\n",
              "      <th>text</th>\n",
              "    </tr>\n",
              "  </thead>\n",
              "  <tbody>\n",
              "    <tr>\n",
              "      <th>0</th>\n",
              "      <td>Explanation Why edits made under my username H...</td>\n",
              "    </tr>\n",
              "    <tr>\n",
              "      <th>1</th>\n",
              "      <td>Dww He matches this background colour I seemin...</td>\n",
              "    </tr>\n",
              "    <tr>\n",
              "      <th>2</th>\n",
              "      <td>Hey man I really not trying to edit war It jus...</td>\n",
              "    </tr>\n",
              "    <tr>\n",
              "      <th>3</th>\n",
              "      <td>More I ca makeny real suggestions on improveme...</td>\n",
              "    </tr>\n",
              "    <tr>\n",
              "      <th>4</th>\n",
              "      <td>You sir my hero Any chance you remember what p...</td>\n",
              "    </tr>\n",
              "    <tr>\n",
              "      <th>...</th>\n",
              "      <td>...</td>\n",
              "    </tr>\n",
              "    <tr>\n",
              "      <th>111718</th>\n",
              "      <td>Auto guidesnd motoring press not good sources ...</td>\n",
              "    </tr>\n",
              "    <tr>\n",
              "      <th>111719</th>\n",
              "      <td>please identify what part of BLPpplies because...</td>\n",
              "    </tr>\n",
              "    <tr>\n",
              "      <th>111720</th>\n",
              "      <td>Catalan independentism social movement involvi...</td>\n",
              "    </tr>\n",
              "    <tr>\n",
              "      <th>111721</th>\n",
              "      <td>Spitzer Umm res noctualrticle for prostitution...</td>\n",
              "    </tr>\n",
              "    <tr>\n",
              "      <th>111722</th>\n",
              "      <td>And it looks like it wasctually you who put on...</td>\n",
              "    </tr>\n",
              "  </tbody>\n",
              "</table>\n",
              "<p>111723 rows × 1 columns</p>\n",
              "</div>\n",
              "      <button class=\"colab-df-convert\" onclick=\"convertToInteractive('df-1028be82-aee5-4095-ad46-22af0876b5d3')\"\n",
              "              title=\"Convert this dataframe to an interactive table.\"\n",
              "              style=\"display:none;\">\n",
              "        \n",
              "  <svg xmlns=\"http://www.w3.org/2000/svg\" height=\"24px\"viewBox=\"0 0 24 24\"\n",
              "       width=\"24px\">\n",
              "    <path d=\"M0 0h24v24H0V0z\" fill=\"none\"/>\n",
              "    <path d=\"M18.56 5.44l.94 2.06.94-2.06 2.06-.94-2.06-.94-.94-2.06-.94 2.06-2.06.94zm-11 1L8.5 8.5l.94-2.06 2.06-.94-2.06-.94L8.5 2.5l-.94 2.06-2.06.94zm10 10l.94 2.06.94-2.06 2.06-.94-2.06-.94-.94-2.06-.94 2.06-2.06.94z\"/><path d=\"M17.41 7.96l-1.37-1.37c-.4-.4-.92-.59-1.43-.59-.52 0-1.04.2-1.43.59L10.3 9.45l-7.72 7.72c-.78.78-.78 2.05 0 2.83L4 21.41c.39.39.9.59 1.41.59.51 0 1.02-.2 1.41-.59l7.78-7.78 2.81-2.81c.8-.78.8-2.07 0-2.86zM5.41 20L4 18.59l7.72-7.72 1.47 1.35L5.41 20z\"/>\n",
              "  </svg>\n",
              "      </button>\n",
              "      \n",
              "  <style>\n",
              "    .colab-df-container {\n",
              "      display:flex;\n",
              "      flex-wrap:wrap;\n",
              "      gap: 12px;\n",
              "    }\n",
              "\n",
              "    .colab-df-convert {\n",
              "      background-color: #E8F0FE;\n",
              "      border: none;\n",
              "      border-radius: 50%;\n",
              "      cursor: pointer;\n",
              "      display: none;\n",
              "      fill: #1967D2;\n",
              "      height: 32px;\n",
              "      padding: 0 0 0 0;\n",
              "      width: 32px;\n",
              "    }\n",
              "\n",
              "    .colab-df-convert:hover {\n",
              "      background-color: #E2EBFA;\n",
              "      box-shadow: 0px 1px 2px rgba(60, 64, 67, 0.3), 0px 1px 3px 1px rgba(60, 64, 67, 0.15);\n",
              "      fill: #174EA6;\n",
              "    }\n",
              "\n",
              "    [theme=dark] .colab-df-convert {\n",
              "      background-color: #3B4455;\n",
              "      fill: #D2E3FC;\n",
              "    }\n",
              "\n",
              "    [theme=dark] .colab-df-convert:hover {\n",
              "      background-color: #434B5C;\n",
              "      box-shadow: 0px 1px 3px 1px rgba(0, 0, 0, 0.15);\n",
              "      filter: drop-shadow(0px 1px 2px rgba(0, 0, 0, 0.3));\n",
              "      fill: #FFFFFF;\n",
              "    }\n",
              "  </style>\n",
              "\n",
              "      <script>\n",
              "        const buttonEl =\n",
              "          document.querySelector('#df-1028be82-aee5-4095-ad46-22af0876b5d3 button.colab-df-convert');\n",
              "        buttonEl.style.display =\n",
              "          google.colab.kernel.accessAllowed ? 'block' : 'none';\n",
              "\n",
              "        async function convertToInteractive(key) {\n",
              "          const element = document.querySelector('#df-1028be82-aee5-4095-ad46-22af0876b5d3');\n",
              "          const dataTable =\n",
              "            await google.colab.kernel.invokeFunction('convertToInteractive',\n",
              "                                                     [key], {});\n",
              "          if (!dataTable) return;\n",
              "\n",
              "          const docLinkHtml = 'Like what you see? Visit the ' +\n",
              "            '<a target=\"_blank\" href=https://colab.research.google.com/notebooks/data_table.ipynb>data table notebook</a>'\n",
              "            + ' to learn more about interactive tables.';\n",
              "          element.innerHTML = '';\n",
              "          dataTable['output_type'] = 'display_data';\n",
              "          await google.colab.output.renderOutput(dataTable, element);\n",
              "          const docLink = document.createElement('div');\n",
              "          docLink.innerHTML = docLinkHtml;\n",
              "          element.appendChild(docLink);\n",
              "        }\n",
              "      </script>\n",
              "    </div>\n",
              "  </div>\n",
              "  "
            ]
          },
          "metadata": {},
          "execution_count": 18
        }
      ]
    },
    {
      "cell_type": "markdown",
      "source": [
        "### count vectorizer"
      ],
      "metadata": {
        "id": "GIQHNZ7RL5n7"
      }
    },
    {
      "cell_type": "code",
      "source": [
        "from sklearn.feature_extraction.text import CountVectorizer\n",
        "from scipy.sparse import csr_matrix\n",
        "cv = CountVectorizer()\n",
        "\n",
        "X = cv.fit(data['text'])\n",
        "X = cv.transform(data['text'])\n",
        "X_test = cv.transform(data_test['text'])\n",
        "print(X.shape, X_test.shape)"
      ],
      "metadata": {
        "colab": {
          "base_uri": "https://localhost:8080/"
        },
        "id": "znBXFIi3L5JY",
        "outputId": "bcde7d39-0f92-4b01-b0d7-0f177fe71c87"
      },
      "execution_count": 7,
      "outputs": [
        {
          "output_type": "stream",
          "name": "stdout",
          "text": [
            "(111723, 266598) (47848, 266598)\n"
          ]
        }
      ]
    },
    {
      "cell_type": "markdown",
      "source": [
        "### feature reduction by >1000 count filtering"
      ],
      "metadata": {
        "id": "TUlZrYCRL7wa"
      }
    },
    {
      "cell_type": "code",
      "source": [
        "\n",
        "from sklearn.feature_extraction.text import CountVectorizer\n",
        "cv = CountVectorizer()\n",
        "\n",
        "X = cv.fit(data['text'])\n",
        "X = cv.transform(data['text'])\n",
        "X_test = cv.transform(data_test['text']) #\n",
        "print(X)\n",
        "print(X.shape, X_test.shape) #\n",
        "\n",
        "number_threshold = 500\n",
        "print(np.sum((np.sum(X, axis=0)>number_threshold)))\n",
        "\n",
        "list_indices = [index for index, val in enumerate(np.array(np.sum(X, axis=0)).flatten()>number_threshold) if val == 1]\n",
        "X_reduced_freq_1000_filter = X[:, list_indices]\n",
        "X_test_reduced_freq_1000_filter = X_test[:, list_indices]\n",
        "\n",
        "print(X_reduced_freq_1000_filter.shape)\n",
        "# pca = PCA(n_components=2)\n",
        "# pca.fit(X)\n",
        "# print(pca.explained_variance_ratio_)"
      ],
      "metadata": {
        "colab": {
          "base_uri": "https://localhost:8080/"
        },
        "id": "4MefY52G3yCg",
        "outputId": "ab2ed280-04f1-4409-f43b-7e2a546cf60c"
      },
      "execution_count": 8,
      "outputs": [
        {
          "output_type": "stream",
          "name": "stdout",
          "text": [
            "  (0, 4443)\t1\n",
            "  (0, 34037)\t1\n",
            "  (0, 56088)\t1\n",
            "  (0, 56850)\t1\n",
            "  (0, 61403)\t1\n",
            "  (0, 69575)\t1\n",
            "  (0, 70379)\t1\n",
            "  (0, 71572)\t1\n",
            "  (0, 79438)\t1\n",
            "  (0, 82057)\t1\n",
            "  (0, 90895)\t1\n",
            "  (0, 114699)\t1\n",
            "  (0, 129290)\t1\n",
            "  (0, 136694)\t1\n",
            "  (0, 143966)\t1\n",
            "  (0, 148421)\t1\n",
            "  (0, 152819)\t1\n",
            "  (0, 158054)\t1\n",
            "  (0, 164076)\t1\n",
            "  (0, 171981)\t1\n",
            "  (0, 189412)\t1\n",
            "  (0, 192141)\t1\n",
            "  (0, 192505)\t1\n",
            "  (0, 207590)\t1\n",
            "  (0, 211055)\t1\n",
            "  :\t:\n",
            "  (111721, 44501)\t1\n",
            "  (111721, 76579)\t1\n",
            "  (111721, 150162)\t1\n",
            "  (111721, 179178)\t1\n",
            "  (111721, 190979)\t1\n",
            "  (111721, 193970)\t1\n",
            "  (111721, 214159)\t1\n",
            "  (111721, 240402)\t1\n",
            "  (111722, 4443)\t1\n",
            "  (111722, 49126)\t1\n",
            "  (111722, 74830)\t1\n",
            "  (111722, 110279)\t3\n",
            "  (111722, 124419)\t1\n",
            "  (111722, 127408)\t1\n",
            "  (111722, 127433)\t1\n",
            "  (111722, 152819)\t1\n",
            "  (111722, 158054)\t1\n",
            "  (111722, 181187)\t1\n",
            "  (111722, 213760)\t1\n",
            "  (111722, 227484)\t1\n",
            "  (111722, 233153)\t1\n",
            "  (111722, 247712)\t1\n",
            "  (111722, 251331)\t1\n",
            "  (111722, 255804)\t1\n",
            "  (111722, 263815)\t1\n",
            "(111723, 266598) (47848, 266598)\n",
            "1309\n",
            "(111723, 1309)\n"
          ]
        }
      ]
    },
    {
      "cell_type": "code",
      "source": [
        "from sklearn.multiclass import OneVsRestClassifier\n",
        "import sklearn\n",
        "\n",
        "model = OneVsRestClassifier(sklearn.svm.LinearSVC(C=0.5))\n",
        "model.fit(X, target)\n",
        "\n",
        "target_pred = model.predict(X)\n",
        "print(np.sum(target_pred == target)/np.prod(target))\n",
        "\n",
        "print(\"how many of the scores are equal along all axes\", np.sum(target_pred == target)/1)\n",
        "print(f'{list(target_pred[0])}'.replace(', ', ',').replace('[', '\"').replace(']', '\"'))\n",
        "gen_submission(target_pred)\n"
      ],
      "metadata": {
        "colab": {
          "base_uri": "https://localhost:8080/"
        },
        "id": "v73psUeU-C0T",
        "outputId": "8ba26e69-1b23-48f6-c928-03a176c4bd51"
      },
      "execution_count": 10,
      "outputs": [
        {
          "output_type": "stream",
          "name": "stderr",
          "text": [
            "/usr/local/lib/python3.7/dist-packages/sklearn/svm/_base.py:1208: ConvergenceWarning: Liblinear failed to converge, increase the number of iterations.\n",
            "  ConvergenceWarning,\n",
            "/usr/local/lib/python3.7/dist-packages/sklearn/svm/_base.py:1208: ConvergenceWarning: Liblinear failed to converge, increase the number of iterations.\n",
            "  ConvergenceWarning,\n",
            "/usr/local/lib/python3.7/dist-packages/sklearn/svm/_base.py:1208: ConvergenceWarning: Liblinear failed to converge, increase the number of iterations.\n",
            "  ConvergenceWarning,\n",
            "/usr/local/lib/python3.7/dist-packages/sklearn/svm/_base.py:1208: ConvergenceWarning: Liblinear failed to converge, increase the number of iterations.\n",
            "  ConvergenceWarning,\n",
            "/usr/local/lib/python3.7/dist-packages/sklearn/svm/_base.py:1208: ConvergenceWarning: Liblinear failed to converge, increase the number of iterations.\n",
            "  ConvergenceWarning,\n",
            "/usr/local/lib/python3.7/dist-packages/sklearn/svm/_base.py:1208: ConvergenceWarning: Liblinear failed to converge, increase the number of iterations.\n",
            "  ConvergenceWarning,\n",
            "/usr/local/lib/python3.7/dist-packages/ipykernel_launcher.py:7: RuntimeWarning: divide by zero encountered in long_scalars\n",
            "  import sys\n"
          ]
        },
        {
          "output_type": "stream",
          "name": "stdout",
          "text": [
            "inf\n",
            "how many of the scores are equal along all axes 668822.0\n",
            "\"0,0,0,0,0,0\"\n",
            "            ID     Prediction\n",
            "0            0  \"0,0,0,0,0,0\"\n",
            "1            1  \"0,0,0,0,0,0\"\n",
            "2            2  \"0,0,0,0,0,0\"\n",
            "3            3  \"0,0,0,0,0,0\"\n",
            "4            4  \"0,0,0,0,0,0\"\n",
            "...        ...            ...\n",
            "111718  111718  \"0,0,0,0,0,0\"\n",
            "111719  111719  \"0,0,0,0,0,0\"\n",
            "111720  111720  \"0,0,0,0,0,0\"\n",
            "111721  111721  \"0,0,0,0,0,0\"\n",
            "111722  111722  \"0,0,0,0,0,0\"\n",
            "\n",
            "[111723 rows x 2 columns]\n"
          ]
        }
      ]
    },
    {
      "cell_type": "code",
      "source": [
        "print(type(X_reduced_freq_1000_filter), type(X))\n",
        "print(np.shape(X_reduced_freq_1000_filter), np.shape(X))"
      ],
      "metadata": {
        "colab": {
          "base_uri": "https://localhost:8080/"
        },
        "id": "pKXJnyuUaAIC",
        "outputId": "d372d19a-1ad8-4f6e-bf4b-0f35bcb1947e"
      },
      "execution_count": 38,
      "outputs": [
        {
          "output_type": "stream",
          "name": "stdout",
          "text": [
            "<class 'scipy.sparse.csr.csr_matrix'> <class 'scipy.sparse.csr.csr_matrix'>\n",
            "(111723, 803) (111723, 152903)\n"
          ]
        }
      ]
    },
    {
      "cell_type": "code",
      "source": [
        "target_test = model.predict(X_test)\n",
        "gen_submission(target_test)"
      ],
      "metadata": {
        "colab": {
          "base_uri": "https://localhost:8080/"
        },
        "id": "t6ObWrnTMX3M",
        "outputId": "ee9d4660-5e8c-4291-e0c7-f615ab527518"
      },
      "execution_count": 11,
      "outputs": [
        {
          "output_type": "stream",
          "name": "stdout",
          "text": [
            "          ID     Prediction\n",
            "0          0  \"0,0,0,0,0,0\"\n",
            "1          1  \"0,0,0,0,0,0\"\n",
            "2          2  \"1,0,0,0,0,0\"\n",
            "3          3  \"0,0,0,0,0,0\"\n",
            "4          4  \"0,0,0,0,0,0\"\n",
            "...      ...            ...\n",
            "47843  47843  \"0,0,0,0,0,0\"\n",
            "47844  47844  \"0,0,0,0,0,0\"\n",
            "47845  47845  \"0,0,0,0,0,0\"\n",
            "47846  47846  \"0,0,0,0,0,0\"\n",
            "47847  47847  \"0,0,0,0,0,0\"\n",
            "\n",
            "[47848 rows x 2 columns]\n"
          ]
        }
      ]
    },
    {
      "cell_type": "markdown",
      "source": [
        "# sort by most frequent words"
      ],
      "metadata": {
        "id": "Wn-9qyOaRs8A"
      }
    },
    {
      "cell_type": "code",
      "source": [
        "from sklearn.multiclass import OneVsRestClassifier\n",
        "import sklearn\n",
        "\n",
        "model = OneVsRestClassifier(sklearn.svm.LinearSVC(C=0.5))\n",
        "import xgboost as xgb\n",
        "import lightgbm as lgb\n",
        "# model = OneVsRestClassifier(xgb.XGBClassifier(max_depth=6))\n",
        "model.fit(X_reduced_freq_1000_filter, target)\n",
        "\n",
        "target_pred = model.predict(X_reduced_freq_1000_filter)\n",
        "print(np.sum(target_pred == target)/np.prod(target))\n",
        "\n",
        "print(\"how many of the scores are equal along all axes\", np.sum(target_pred == target)/1)\n",
        "print(f'{list(target_pred[0])}'.replace(', ', ',').replace('[', '\"').replace(']', '\"'))\n",
        "gen_submission(target_pred)\n",
        "\n",
        "\n",
        "\n",
        "#####\n",
        "target_test = model.predict(X_test_reduced_freq_1000_filter)\n",
        "gen_submission(target_test)"
      ],
      "metadata": {
        "colab": {
          "base_uri": "https://localhost:8080/"
        },
        "id": "yB6RDQOkRq3N",
        "outputId": "af8b4bae-2330-4bf8-952c-05da32152448"
      },
      "execution_count": 13,
      "outputs": [
        {
          "output_type": "stream",
          "name": "stderr",
          "text": [
            "/usr/local/lib/python3.7/dist-packages/sklearn/svm/_base.py:1208: ConvergenceWarning: Liblinear failed to converge, increase the number of iterations.\n",
            "  ConvergenceWarning,\n",
            "/usr/local/lib/python3.7/dist-packages/sklearn/svm/_base.py:1208: ConvergenceWarning: Liblinear failed to converge, increase the number of iterations.\n",
            "  ConvergenceWarning,\n",
            "/usr/local/lib/python3.7/dist-packages/sklearn/svm/_base.py:1208: ConvergenceWarning: Liblinear failed to converge, increase the number of iterations.\n",
            "  ConvergenceWarning,\n",
            "/usr/local/lib/python3.7/dist-packages/sklearn/svm/_base.py:1208: ConvergenceWarning: Liblinear failed to converge, increase the number of iterations.\n",
            "  ConvergenceWarning,\n",
            "/usr/local/lib/python3.7/dist-packages/sklearn/svm/_base.py:1208: ConvergenceWarning: Liblinear failed to converge, increase the number of iterations.\n",
            "  ConvergenceWarning,\n",
            "/usr/local/lib/python3.7/dist-packages/sklearn/svm/_base.py:1208: ConvergenceWarning: Liblinear failed to converge, increase the number of iterations.\n",
            "  ConvergenceWarning,\n",
            "/usr/local/lib/python3.7/dist-packages/ipykernel_launcher.py:11: RuntimeWarning: divide by zero encountered in long_scalars\n",
            "  # This is added back by InteractiveShellApp.init_path()\n"
          ]
        },
        {
          "output_type": "stream",
          "name": "stdout",
          "text": [
            "inf\n",
            "how many of the scores are equal along all axes 655399.0\n",
            "\"0,0,0,0,0,0\"\n",
            "            ID     Prediction\n",
            "0            0  \"0,0,0,0,0,0\"\n",
            "1            1  \"0,0,0,0,0,0\"\n",
            "2            2  \"0,0,0,0,0,0\"\n",
            "3            3  \"0,0,0,0,0,0\"\n",
            "4            4  \"0,0,0,0,0,0\"\n",
            "...        ...            ...\n",
            "111718  111718  \"0,0,0,0,0,0\"\n",
            "111719  111719  \"0,0,0,0,0,0\"\n",
            "111720  111720  \"0,0,0,0,0,0\"\n",
            "111721  111721  \"0,0,0,0,0,0\"\n",
            "111722  111722  \"0,0,0,0,0,0\"\n",
            "\n",
            "[111723 rows x 2 columns]\n",
            "          ID     Prediction\n",
            "0          0  \"0,0,0,0,0,0\"\n",
            "1          1  \"0,0,0,0,0,0\"\n",
            "2          2  \"0,0,0,0,0,0\"\n",
            "3          3  \"0,0,0,0,0,0\"\n",
            "4          4  \"0,0,0,0,0,0\"\n",
            "...      ...            ...\n",
            "47843  47843  \"0,0,0,0,0,0\"\n",
            "47844  47844  \"0,0,0,0,0,0\"\n",
            "47845  47845  \"0,0,0,0,0,0\"\n",
            "47846  47846  \"0,0,0,0,0,0\"\n",
            "47847  47847  \"0,0,0,0,0,0\"\n",
            "\n",
            "[47848 rows x 2 columns]\n"
          ]
        }
      ]
    },
    {
      "cell_type": "markdown",
      "source": [
        "# Use tfid vectorizer"
      ],
      "metadata": {
        "id": "p5_q2TQnnD74"
      }
    },
    {
      "cell_type": "code",
      "source": [
        "from sklearn.feature_extraction.text import TfidfVectorizer\n",
        "word_vectorizer = TfidfVectorizer(\n",
        "    strip_accents='unicode',\n",
        "    analyzer='word',\n",
        "    token_pattern=r'\\w{1,}',\n",
        "    ngram_range=(1, 3),\n",
        "    stop_words='english',\n",
        "    sublinear_tf=True\n",
        ")\n",
        "\n",
        "X_transformed = word_vectorizer.fit_transform(data['text'])\n",
        "X_test_transformed = word_vectorizer.transform(data_test['text'])"
      ],
      "metadata": {
        "id": "tqMOfpjKm0Sa"
      },
      "execution_count": 23,
      "outputs": []
    },
    {
      "cell_type": "code",
      "source": [
        "X_transformed.shape"
      ],
      "metadata": {
        "colab": {
          "base_uri": "https://localhost:8080/"
        },
        "id": "QLy3QZjRq61m",
        "outputId": "1238d5d3-2412-4c76-abe0-7d563deefd6b"
      },
      "execution_count": 20,
      "outputs": [
        {
          "output_type": "execute_result",
          "data": {
            "text/plain": [
              "(111723, 5321926)"
            ]
          },
          "metadata": {},
          "execution_count": 20
        }
      ]
    },
    {
      "cell_type": "code",
      "source": [
        "from sklearn.multiclass import OneVsRestClassifier\n",
        "import sklearn\n",
        "from sklearn.linear_model import LogisticRegression\n",
        "\n",
        "# model = OneVsRestClassifier(sklearn.svm.LinearSVC(C=0.5))\n",
        "import xgboost as xgb\n",
        "import lightgbm as lgb\n",
        "model = OneVsRestClassifier(LogisticRegression(C = 10, penalty ='l2', solver='liblinear'))\n",
        "model.fit(X_transformed, target)\n",
        "\n",
        "target_pred = model.predict(X_transformed)\n",
        "print(np.sum(target_pred == target)/np.prod(target))\n",
        "\n",
        "print(\"how many of the scores are equal along all axes\", np.sum(target_pred == target)/1)\n",
        "print(f'{list(target_pred[0])}'.replace(', ', ',').replace('[', '\"').replace(']', '\"'))\n",
        "gen_submission(target_pred)\n",
        "\n",
        "\n",
        "\n",
        "#####\n",
        "target_test = model.predict(X_test_transformed)\n",
        "gen_submission(target_test)"
      ],
      "metadata": {
        "colab": {
          "base_uri": "https://localhost:8080/"
        },
        "id": "FE7BiIEqnSus",
        "outputId": "c34c237a-5a9f-49df-f2cf-a6c492b9d383"
      },
      "execution_count": 26,
      "outputs": [
        {
          "output_type": "stream",
          "name": "stderr",
          "text": [
            "/usr/local/lib/python3.7/dist-packages/ipykernel_launcher.py:12: RuntimeWarning: divide by zero encountered in long_scalars\n",
            "  if sys.path[0] == '':\n"
          ]
        },
        {
          "output_type": "stream",
          "name": "stdout",
          "text": [
            "inf\n",
            "how many of the scores are equal along all axes 669511.0\n",
            "\"0,0,0,0,0,0\"\n",
            "            ID     Prediction\n",
            "0            0  \"0,0,0,0,0,0\"\n",
            "1            1  \"0,0,0,0,0,0\"\n",
            "2            2  \"0,0,0,0,0,0\"\n",
            "3            3  \"0,0,0,0,0,0\"\n",
            "4            4  \"0,0,0,0,0,0\"\n",
            "...        ...            ...\n",
            "111718  111718  \"0,0,0,0,0,0\"\n",
            "111719  111719  \"0,0,0,0,0,0\"\n",
            "111720  111720  \"0,0,0,0,0,0\"\n",
            "111721  111721  \"0,0,0,0,0,0\"\n",
            "111722  111722  \"0,0,0,0,0,0\"\n",
            "\n",
            "[111723 rows x 2 columns]\n",
            "          ID     Prediction\n",
            "0          0  \"0,0,0,0,0,0\"\n",
            "1          1  \"0,0,0,0,0,0\"\n",
            "2          2  \"0,0,0,0,0,0\"\n",
            "3          3  \"0,0,0,0,0,0\"\n",
            "4          4  \"0,0,0,0,0,0\"\n",
            "...      ...            ...\n",
            "47843  47843  \"0,0,0,0,0,0\"\n",
            "47844  47844  \"0,0,0,0,0,0\"\n",
            "47845  47845  \"0,0,0,0,0,0\"\n",
            "47846  47846  \"0,0,0,0,0,0\"\n",
            "47847  47847  \"0,0,0,0,0,0\"\n",
            "\n",
            "[47848 rows x 2 columns]\n"
          ]
        }
      ]
    }
  ]
}